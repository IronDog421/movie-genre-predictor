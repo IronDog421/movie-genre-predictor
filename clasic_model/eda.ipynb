{
 "cells": [
  {
   "cell_type": "code",
   "execution_count": 1,
   "id": "571652b0",
   "metadata": {},
   "outputs": [],
   "source": [
    "import pandas as pd\n",
    "import matplotlib.pyplot as plt\n",
    "import seaborn as sns\n",
    "from pathlib import Path\n",
    "from scipy.sparse import hstack as sp_hstack\n",
    "from sklearn.linear_model import LogisticRegression\n",
    "from sklearn.metrics import f1_score\n",
    "from sklearn.model_selection import train_test_split\n",
    "from sklearn.multiclass import OneVsRestClassifier\n",
    "from sklearn.preprocessing import MultiLabelBinarizer\n",
    "from sklearn.feature_extraction.text import TfidfVectorizer\n",
    "import numpy as np"
   ]
  },
  {
   "cell_type": "markdown",
   "id": "f3dd46d3",
   "metadata": {},
   "source": [
    "### **Load data**"
   ]
  },
  {
   "cell_type": "code",
   "execution_count": 2,
   "id": "a871de7e",
   "metadata": {},
   "outputs": [],
   "source": [
    "test_dir = Path(\"../dataset_test.csv\")\n",
    "train_dir = Path(\"../dataset_train.csv\")"
   ]
  },
  {
   "cell_type": "code",
   "execution_count": 3,
   "id": "0adbcb38",
   "metadata": {},
   "outputs": [
    {
     "data": {
      "text/plain": [
       "8475"
      ]
     },
     "execution_count": 3,
     "metadata": {},
     "output_type": "execute_result"
    }
   ],
   "source": [
    "df = pd.read_csv(train_dir)\n",
    "len(df)"
   ]
  },
  {
   "cell_type": "code",
   "execution_count": 182,
   "id": "43ee1a39",
   "metadata": {},
   "outputs": [
    {
     "data": {
      "application/vnd.microsoft.datawrangler.viewer.v0+json": {
       "columns": [
        {
         "name": "index",
         "rawType": "int64",
         "type": "integer"
        },
        {
         "name": "movie_name",
         "rawType": "object",
         "type": "string"
        },
        {
         "name": "genre",
         "rawType": "object",
         "type": "string"
        },
        {
         "name": "description",
         "rawType": "object",
         "type": "string"
        }
       ],
       "ref": "0ec4e485-6b66-44a7-963b-af0af7c9e21e",
       "rows": [
        [
         "0",
         "Silent Hill",
         "Horror, Mystery",
         "Rose, a desperate mother takes her adopted daughter, Sharon, to the town of Silent Hill in an attempt to cure her of her ailment. After a violent car crash, Sharon disappears and Rose begins a desperate search to get her back. She descends into the center of the twisted reality of a town's terrible secret. Pursued by grotesquely deformed creatures and townspeople stuck in permanent purgatory, Rose begins to uncover the truth behind the apocalyptic disaster that burned the town 30 years earlier."
        ],
        [
         "1",
         "Breaking the Waves",
         "Drama, Romance",
         "In a small and conservative Scottish village, a woman's paralytic husband convinces her to have extramarital intercourse so she can tell him about it and give him a reason for living."
        ],
        [
         "2",
         "Wind Chill",
         "Drama, Horror, Thriller",
         "Two college students share a ride home for the holidays. When they break down on a deserted stretch of road, they're preyed upon by the ghosts of people who have died there."
        ],
        [
         "3",
         "Godmothered",
         "Family, Fantasy, Comedy",
         "A young and unskilled fairy godmother that ventures out on her own to prove her worth by tracking down a young girl whose request for help was ignored. What she discovers is that the girl has now become a grown woman in need of something very different than a \"prince charming.\""
        ],
        [
         "4",
         "Donkey Skin",
         "Fantasy, Comedy, Music, Romance",
         "A fairy godmother helps a princess disguise herself so she won't have to marry her father."
        ],
        [
         "5",
         "Some Kind of Beautiful",
         "Comedy, Romance",
         "By day, Richard Haig is a successful and well-respected English professor at renowned Trinity College in Cambridge.  By night, Richard indulges his own romantic fantasies with a steady stream of beautiful undergraduates.  But Richard has grown tired of the  game and is looking for something more meaningful and lasting.  So when Kate, Richard’s tanned, athletic, 25-year-old American girlfriend tells him that she is pregnant, Richard is thrilled.  He looks forward to having a family of his own,  being a father his children could be proud of, not some sex-fueled bobcat.  There is only one problem.  Richard’s not in love with Kate.  Richard is in love with Kate’s sister, Olivia. He had been in love with her ever since he first saw her."
        ],
        [
         "6",
         "Z",
         "Horror, Thriller",
         "A family find themselves terrorized by their eight-year-old son's imaginary friend."
        ],
        [
         "7",
         "Blitz",
         "Crime, Action, Thriller",
         "A tough cop is dispatched to take down a serial killer who has been targeting police officers."
        ],
        [
         "8",
         "Marriage Italian Style",
         "Drama, Romance, Comedy",
         "During the bombing of Naples in World War II, a cynical businessman helps a naive prostitute, who spends the next two decades desperate to have him reciprocate her feelings."
        ],
        [
         "9",
         "Spoiled Brats",
         "Comedy",
         "The billionaire is tired of the whims of his own children and decides to teach them a lesson. He announces to them that he has become bankrupt. Now spoiled teenagers will have to do what they have never done: go to work, learn to love and value life."
        ],
        [
         "10",
         "W.",
         "Drama, History",
         "The story of the eventful life of George W. Bush—his struggles and triumphs, how he found both his wife and his faith—and the critical days leading up to his decision to invade Iraq."
        ],
        [
         "11",
         "Edge of Darkness",
         "Crime, Drama, Mystery, Thriller",
         "As a seasoned homicide detective, Thomas Craven has seen the bleakest side of humanity. But nothing prepares him for the toughest investigation of his life: the search for his only daughter Emma's killer. Now, he is on a personal mission to uncover the disturbing secrets surrounding her murder, including corporate corruption, government collusion and Emma's own mysterious life."
        ],
        [
         "12",
         "Spy",
         "Action, Comedy, Crime",
         "A desk-bound CIA analyst volunteers to go undercover to infiltrate the world of a deadly arms dealer, and prevent diabolical global disaster."
        ],
        [
         "13",
         "A Guide to Recognizing Your Saints",
         "Crime, Drama",
         "Dito Montiel, a successful author, receives a call from his long-suffering mother, asking him to return home and visit his ailing father. Dito recalls his childhood growing up in a violent neighborhood in Queens, N.Y., with friends Antonio, Giuseppe, Nerf and Mike."
        ],
        [
         "14",
         "Cyberbully",
         "Drama, TV Movie",
         "A woman tries to help her teenage daughter when she becomes the victim of online bullying."
        ],
        [
         "15",
         "G20",
         "Action, Mystery, Drama",
         "After the G20 Summit is overtaken by terrorists, President Danielle Sutton must bring all her statecraft and military experience to defend her family and her fellow leaders."
        ],
        [
         "16",
         "Ruthless People",
         "Comedy",
         "Sam Stone hates his wife Barbara so much that he wants her dead. He's ecstatic when she's taken by a duo of kidnappers who want $500,000 ransom in exchange for her life. Fully intending to ignore every one of the kidnappers' demands in the hopes that they do him a favor and murder her for him, the two confused kidnappers have to figure out how they're going get their money, and what they're going to do with the overbearing Barbara."
        ],
        [
         "17",
         "Charlotte's Web",
         "Family, Music, Animation",
         "Wilbur the pig is scared of the end of the season, because he knows that come that time, he will end up on the dinner table. He hatches a plan with Charlotte, a spider that lives in his pen, to ensure that this will never happen."
        ],
        [
         "18",
         "Greenberg",
         "Comedy, Drama, Romance",
         "A New Yorker moves to Los Angeles in order to figure out his life while he housesits for his brother, and he soon sparks with his brother's assistant."
        ],
        [
         "19",
         "Suffragette",
         "Drama, History",
         "Based on true events about the foot soldiers of the early feminist movement, women who were forced underground to pursue a dangerous game of cat and mouse with an increasingly brutal State."
        ],
        [
         "20",
         "Bullets Over Broadway",
         "Comedy, Crime",
         "After young playwright, David Shayne obtains funding for his play from gangster Nick Valenti, Nick's girlfriend Olive miraculously lands the role of a psychiatrist—but not only is she a bimbo who could never pass for a psychiatrist—she's a dreadful actress. David puts up with the leading man who is a compulsive eater, the grand dame who wants her part jazzed up, and Olive's interfering hitman/bodyguard—but, eventually he must decide whether art or life is more important."
        ],
        [
         "21",
         "Batman v Superman: Dawn of Justice",
         "Action, Adventure, Fantasy",
         "Fearing the actions of a god-like Super Hero left unchecked, Gotham City’s own formidable, forceful vigilante takes on Metropolis’s most revered, modern-day savior, while the world wrestles with what sort of hero it really needs. And with Batman and Superman at war with one another, a new threat quickly arises, putting mankind in greater danger than it’s ever known before."
        ],
        [
         "22",
         "Snow Dogs",
         "Comedy, Family, Adventure",
         "When a Miami dentist inherits a team of sled dogs, he's got to learn the trade or lose his pack to a crusty mountain man."
        ],
        [
         "23",
         "The Time Machine",
         "Thriller, Adventure, Fantasy, Science Fiction, Romance",
         "A Victorian Englishman travels to the far future and finds that humanity has divided into two hostile species."
        ],
        [
         "24",
         "WALL·E",
         "Animation, Family, Science Fiction",
         "What if mankind had to leave Earth and somebody forgot to turn the last robot off? After hundreds of years doing what he was built for, WALL•E discovers a new purpose in life when he meets a sleek search robot named EVE. EVE comes to realize that WALL•E has inadvertently stumbled upon the key to the planet's future, and races back to space to report to the humans. Meanwhile, WALL•E chases EVE across the galaxy and sets into motion one of the most imaginative adventures ever brought to the big screen."
        ],
        [
         "25",
         "Changeling",
         "Crime, Drama, Mystery",
         "Los Angeles, 1928. When single mother Christine Collins leaves for work, her son vanishes without a trace. Five months later, the police reunite mother and son. But when Christine suspects that the boy returned to her isn't her child, her quest for truth exposes a world of corruption."
        ],
        [
         "26",
         "The Skin I Live In",
         "Drama, Horror, Mystery, Thriller",
         "A brilliant plastic surgeon creates a synthetic skin that withstands any kind of damage. His guinea pig: a mysterious and volatile woman who holds the key to his obsession."
        ],
        [
         "27",
         "She's Out of My League",
         "Romance, Comedy",
         "When he starts dating drop-dead gorgeous Molly, insecure airport security agent Kirk can't believe it. As his friends and family share their doubts about the relationship lasting, Kirk does everything he can to avoid losing Molly forever."
        ],
        [
         "28",
         "Attack the Block",
         "Action, Comedy, Science Fiction",
         "A teen gang in a South London housing estate must team up with the other residents to protect their neighbourhood from a terrifying alien invasion."
        ],
        [
         "29",
         "The Takedown",
         "Comedy, Action",
         "Ousmane Diakité and François Monge are two cops with very different styles, backgrounds and careers. The unlikely pair are reunited once again for a new investigation that takes them across France. What seemed to be a simple drug deal turns out to be a much bigger criminal case wrapped in danger and unexpected comedy."
        ],
        [
         "30",
         "The Road",
         "Adventure, Drama",
         "A father and his son walk alone through burned America. Nothing moves in the ravaged landscape save the ash on the wind and water. It is cold enough to crack stones and, when the snow falls, it is gray. Their destination is the warmer south, although they don't know what, if anything, awaits them there."
        ],
        [
         "31",
         "Race to Witch Mountain",
         "Adventure, Family, Fantasy, Science Fiction, Thriller, Action",
         "A taxi driver gets more than he bargained for when he picks up two teen runaways. Not only does the pair possess supernatural powers, but they're also trying desperately to escape people who have made them their targets."
        ],
        [
         "32",
         "An American Tail",
         "Animation, Comedy, Adventure, Drama, Family",
         "A young mouse named Fievel and his family decide to migrate to America, a \"land without cats,\" at the turn of the 20th century. But somehow, Fievel ends up in the New World alone and must fend off not only the felines he never thought he'd have to deal with again but also the loneliness of being away from home."
        ],
        [
         "33",
         "Flushed Away",
         "Adventure, Animation, Comedy, Family",
         "London high-society mouse, Roddy is flushed down the toilet by Sid, a common sewer rat. Hang on for a madcap adventure deep in the sewer bowels of Ratropolis, where Roddy meets the resourceful Rita, the rodent-hating Toad and his faithful thugs, Spike and Whitey."
        ],
        [
         "34",
         "Puss in Boots: The Three Diablos",
         "Adventure, Animation, Comedy, Family",
         "Puss in Boots is on a mission to recover the Princess' stolen ruby from the notorious French thief, Whisperer. Reluctantly accompanied by three little kittens, Three Diablos, Puss must tame them before they endanger the mission."
        ],
        [
         "35",
         "UglyDolls",
         "Animation, Music, Family, Comedy",
         "In the adorably different town of Uglyville, weirdness is celebrated, strangeness is special and beauty is embraced as more than meets the eye. After traveling to the other side of a mountain, Moxy and her UglyDoll friends discover Perfection -- a town where more conventional dolls receive training before entering the real world to find the love of a child."
        ],
        [
         "36",
         "Come Play",
         "Horror, Mystery",
         "A lonely young boy feels different from everyone else. Desperate for a friend, he seeks solace and refuge in his ever-present cell phone and tablet. When a mysterious creature uses the boy’s devices against him to break into our world, his parents must fight to save their son from the monster beyond the screen."
        ],
        [
         "37",
         "Grande, grosso e Verdone",
         "Comedy",
         "A comic movie divided in three episodes."
        ],
        [
         "38",
         "Jesus Christ Superstar",
         "Music, Drama",
         "As played out by a theatre troupe, the last days of Jesus Christ are depicted from the perspective of Judas Iscariot, his betrayer. As Jesus' following increases, Judas begins to worry that Jesus is falling for his own hype, forgetting the principles of his teachings and growing too close to the prostitute Mary Magdalene."
        ],
        [
         "39",
         "The Blind Side",
         "Drama",
         "The story of Michael Oher, a homeless and traumatized boy who became an All American football player and first round NFL draft pick with the help of a caring woman and her family."
        ],
        [
         "40",
         "Django Unchained",
         "Drama, Western",
         "With the help of a German bounty hunter, a freed slave sets out to rescue his wife from a brutal Mississippi plantation owner."
        ],
        [
         "41",
         "Dark Phoenix",
         "Science Fiction, Action, Adventure",
         "The X-Men face their most formidable and powerful foe when one of their own, Jean Grey, starts to spiral out of control. During a rescue mission in outer space, Jean is nearly killed when she's hit by a mysterious cosmic force. Once she returns home, this force not only makes her infinitely more powerful, but far more unstable. The X-Men must now band together to save her soul and battle aliens that want to use Grey's new abilities to rule the galaxy."
        ],
        [
         "42",
         "Police Story 3: Super Cop",
         "Action, Crime, Thriller",
         "A Hong Kong detective teams up with his female Red Chinese counterpart to stop a Chinese drug czar."
        ],
        [
         "43",
         "Hey Arnold! The Movie",
         "Animation, Comedy, Family, Adventure, Drama, Thriller",
         "Arnold and his friends must recover a stolen document in order to prevent the neighborhood from being bulldozed."
        ],
        [
         "44",
         "Den of Thieves",
         "Action, Crime, Thriller",
         "A gritty crime saga which follows the lives of an elite unit of the LA County Sheriff's Dept. and the state's most successful bank robbery crew as the outlaws plan a seemingly impossible heist on the Federal Reserve Bank."
        ],
        [
         "45",
         "The Space Between Us",
         "Romance, Adventure, Science Fiction, Drama",
         "A young man raised by scientists on Mars returns to Earth to find his father."
        ],
        [
         "46",
         "Last Shift",
         "Horror, Mystery",
         "Rookie police officer Jessica Loren has been assigned the last shift at a closing police station and must wait for a hazmat crew to collect biomedical evidence. Ordered not to leave the station under any circumstances, Jessica comes to learn that it's more than just an outdated station, it's home to the ultimate embodiment of evil and his devoted bloodthirsty followers. Jessica is left to fend for herself in the Devil's playground."
        ],
        [
         "47",
         "Belle and Sebastian: The Adventure Continues",
         "Adventure, Family",
         "September, 1945. Sebastian impatiently waits for the return of his friend Angelina, whom he has not seen for two years. When the plane carrying the young woman to her small village in the Alps is reported to have crashed in the mountains, Sebastian is convinced that Angelina is still alive. Along with his faithful dog Belle, Sebastian embarks on the most dangerous adventure of his life."
        ],
        [
         "48",
         "The Big Short",
         "Comedy, Drama",
         "The men who made millions from a global economic meltdown."
        ],
        [
         "49",
         "The Kite Runner",
         "Drama",
         "After spending years in California, Amir returns to his homeland in Afghanistan to help his old friend Hassan, whose son is in trouble."
        ]
       ],
       "shape": {
        "columns": 3,
        "rows": 8475
       }
      },
      "text/html": [
       "<div>\n",
       "<style scoped>\n",
       "    .dataframe tbody tr th:only-of-type {\n",
       "        vertical-align: middle;\n",
       "    }\n",
       "\n",
       "    .dataframe tbody tr th {\n",
       "        vertical-align: top;\n",
       "    }\n",
       "\n",
       "    .dataframe thead th {\n",
       "        text-align: right;\n",
       "    }\n",
       "</style>\n",
       "<table border=\"1\" class=\"dataframe\">\n",
       "  <thead>\n",
       "    <tr style=\"text-align: right;\">\n",
       "      <th></th>\n",
       "      <th>movie_name</th>\n",
       "      <th>genre</th>\n",
       "      <th>description</th>\n",
       "    </tr>\n",
       "  </thead>\n",
       "  <tbody>\n",
       "    <tr>\n",
       "      <th>0</th>\n",
       "      <td>Silent Hill</td>\n",
       "      <td>Horror, Mystery</td>\n",
       "      <td>Rose, a desperate mother takes her adopted dau...</td>\n",
       "    </tr>\n",
       "    <tr>\n",
       "      <th>1</th>\n",
       "      <td>Breaking the Waves</td>\n",
       "      <td>Drama, Romance</td>\n",
       "      <td>In a small and conservative Scottish village, ...</td>\n",
       "    </tr>\n",
       "    <tr>\n",
       "      <th>2</th>\n",
       "      <td>Wind Chill</td>\n",
       "      <td>Drama, Horror, Thriller</td>\n",
       "      <td>Two college students share a ride home for the...</td>\n",
       "    </tr>\n",
       "    <tr>\n",
       "      <th>3</th>\n",
       "      <td>Godmothered</td>\n",
       "      <td>Family, Fantasy, Comedy</td>\n",
       "      <td>A young and unskilled fairy godmother that ven...</td>\n",
       "    </tr>\n",
       "    <tr>\n",
       "      <th>4</th>\n",
       "      <td>Donkey Skin</td>\n",
       "      <td>Fantasy, Comedy, Music, Romance</td>\n",
       "      <td>A fairy godmother helps a princess disguise he...</td>\n",
       "    </tr>\n",
       "    <tr>\n",
       "      <th>...</th>\n",
       "      <td>...</td>\n",
       "      <td>...</td>\n",
       "      <td>...</td>\n",
       "    </tr>\n",
       "    <tr>\n",
       "      <th>8470</th>\n",
       "      <td>Infested</td>\n",
       "      <td>Horror, Thriller</td>\n",
       "      <td>Residents of a rundown French apartment buildi...</td>\n",
       "    </tr>\n",
       "    <tr>\n",
       "      <th>8471</th>\n",
       "      <td>The Tailor of Panama</td>\n",
       "      <td>Drama, Thriller</td>\n",
       "      <td>A British spy is banished to Panama after havi...</td>\n",
       "    </tr>\n",
       "    <tr>\n",
       "      <th>8472</th>\n",
       "      <td>Bad Education</td>\n",
       "      <td>Drama, Crime</td>\n",
       "      <td>An examination on the effect of Franco-era rel...</td>\n",
       "    </tr>\n",
       "    <tr>\n",
       "      <th>8473</th>\n",
       "      <td>From Dusk Till Dawn</td>\n",
       "      <td>Horror, Action, Thriller, Crime</td>\n",
       "      <td>After kidnapping a father and his two kids, th...</td>\n",
       "    </tr>\n",
       "    <tr>\n",
       "      <th>8474</th>\n",
       "      <td>Road Trip</td>\n",
       "      <td>Comedy, Adventure</td>\n",
       "      <td>After an Ithaca College student films his one-...</td>\n",
       "    </tr>\n",
       "  </tbody>\n",
       "</table>\n",
       "<p>8475 rows × 3 columns</p>\n",
       "</div>"
      ],
      "text/plain": [
       "                movie_name                            genre  \\\n",
       "0              Silent Hill                  Horror, Mystery   \n",
       "1       Breaking the Waves                   Drama, Romance   \n",
       "2               Wind Chill          Drama, Horror, Thriller   \n",
       "3              Godmothered          Family, Fantasy, Comedy   \n",
       "4              Donkey Skin  Fantasy, Comedy, Music, Romance   \n",
       "...                    ...                              ...   \n",
       "8470              Infested                 Horror, Thriller   \n",
       "8471  The Tailor of Panama                  Drama, Thriller   \n",
       "8472         Bad Education                     Drama, Crime   \n",
       "8473   From Dusk Till Dawn  Horror, Action, Thriller, Crime   \n",
       "8474             Road Trip                Comedy, Adventure   \n",
       "\n",
       "                                            description  \n",
       "0     Rose, a desperate mother takes her adopted dau...  \n",
       "1     In a small and conservative Scottish village, ...  \n",
       "2     Two college students share a ride home for the...  \n",
       "3     A young and unskilled fairy godmother that ven...  \n",
       "4     A fairy godmother helps a princess disguise he...  \n",
       "...                                                 ...  \n",
       "8470  Residents of a rundown French apartment buildi...  \n",
       "8471  A British spy is banished to Panama after havi...  \n",
       "8472  An examination on the effect of Franco-era rel...  \n",
       "8473  After kidnapping a father and his two kids, th...  \n",
       "8474  After an Ithaca College student films his one-...  \n",
       "\n",
       "[8475 rows x 3 columns]"
      ]
     },
     "execution_count": 182,
     "metadata": {},
     "output_type": "execute_result"
    }
   ],
   "source": [
    "df"
   ]
  },
  {
   "cell_type": "markdown",
   "id": "6fa5793b",
   "metadata": {},
   "source": [
    "## **Text to disperse vector**"
   ]
  },
  {
   "cell_type": "code",
   "execution_count": 183,
   "id": "f703f2c3",
   "metadata": {},
   "outputs": [],
   "source": [
    "df[\"text\"] = df[\"movie_name\"].fillna(\"\") + \" [SEP] \" + df[\"description\"].fillna(\"\")\n",
    "y_list = df[\"genre\"].apply(lambda s: [g.strip() for g in str(s).split(\",\") if g.strip()])"
   ]
  },
  {
   "cell_type": "code",
   "execution_count": 184,
   "id": "daade9a6",
   "metadata": {},
   "outputs": [
    {
     "data": {
      "application/vnd.microsoft.datawrangler.viewer.v0+json": {
       "columns": [
        {
         "name": "index",
         "rawType": "int64",
         "type": "integer"
        },
        {
         "name": "movie_name",
         "rawType": "object",
         "type": "string"
        },
        {
         "name": "genre",
         "rawType": "object",
         "type": "string"
        },
        {
         "name": "description",
         "rawType": "object",
         "type": "string"
        },
        {
         "name": "text",
         "rawType": "object",
         "type": "string"
        }
       ],
       "ref": "b1d70546-2faf-4d09-8e88-f41e9987eda6",
       "rows": [
        [
         "0",
         "Silent Hill",
         "Horror, Mystery",
         "Rose, a desperate mother takes her adopted daughter, Sharon, to the town of Silent Hill in an attempt to cure her of her ailment. After a violent car crash, Sharon disappears and Rose begins a desperate search to get her back. She descends into the center of the twisted reality of a town's terrible secret. Pursued by grotesquely deformed creatures and townspeople stuck in permanent purgatory, Rose begins to uncover the truth behind the apocalyptic disaster that burned the town 30 years earlier.",
         "Silent Hill [SEP] Rose, a desperate mother takes her adopted daughter, Sharon, to the town of Silent Hill in an attempt to cure her of her ailment. After a violent car crash, Sharon disappears and Rose begins a desperate search to get her back. She descends into the center of the twisted reality of a town's terrible secret. Pursued by grotesquely deformed creatures and townspeople stuck in permanent purgatory, Rose begins to uncover the truth behind the apocalyptic disaster that burned the town 30 years earlier."
        ],
        [
         "1",
         "Breaking the Waves",
         "Drama, Romance",
         "In a small and conservative Scottish village, a woman's paralytic husband convinces her to have extramarital intercourse so she can tell him about it and give him a reason for living.",
         "Breaking the Waves [SEP] In a small and conservative Scottish village, a woman's paralytic husband convinces her to have extramarital intercourse so she can tell him about it and give him a reason for living."
        ],
        [
         "2",
         "Wind Chill",
         "Drama, Horror, Thriller",
         "Two college students share a ride home for the holidays. When they break down on a deserted stretch of road, they're preyed upon by the ghosts of people who have died there.",
         "Wind Chill [SEP] Two college students share a ride home for the holidays. When they break down on a deserted stretch of road, they're preyed upon by the ghosts of people who have died there."
        ],
        [
         "3",
         "Godmothered",
         "Family, Fantasy, Comedy",
         "A young and unskilled fairy godmother that ventures out on her own to prove her worth by tracking down a young girl whose request for help was ignored. What she discovers is that the girl has now become a grown woman in need of something very different than a \"prince charming.\"",
         "Godmothered [SEP] A young and unskilled fairy godmother that ventures out on her own to prove her worth by tracking down a young girl whose request for help was ignored. What she discovers is that the girl has now become a grown woman in need of something very different than a \"prince charming.\""
        ],
        [
         "4",
         "Donkey Skin",
         "Fantasy, Comedy, Music, Romance",
         "A fairy godmother helps a princess disguise herself so she won't have to marry her father.",
         "Donkey Skin [SEP] A fairy godmother helps a princess disguise herself so she won't have to marry her father."
        ],
        [
         "5",
         "Some Kind of Beautiful",
         "Comedy, Romance",
         "By day, Richard Haig is a successful and well-respected English professor at renowned Trinity College in Cambridge.  By night, Richard indulges his own romantic fantasies with a steady stream of beautiful undergraduates.  But Richard has grown tired of the  game and is looking for something more meaningful and lasting.  So when Kate, Richard’s tanned, athletic, 25-year-old American girlfriend tells him that she is pregnant, Richard is thrilled.  He looks forward to having a family of his own,  being a father his children could be proud of, not some sex-fueled bobcat.  There is only one problem.  Richard’s not in love with Kate.  Richard is in love with Kate’s sister, Olivia. He had been in love with her ever since he first saw her.",
         "Some Kind of Beautiful [SEP] By day, Richard Haig is a successful and well-respected English professor at renowned Trinity College in Cambridge.  By night, Richard indulges his own romantic fantasies with a steady stream of beautiful undergraduates.  But Richard has grown tired of the  game and is looking for something more meaningful and lasting.  So when Kate, Richard’s tanned, athletic, 25-year-old American girlfriend tells him that she is pregnant, Richard is thrilled.  He looks forward to having a family of his own,  being a father his children could be proud of, not some sex-fueled bobcat.  There is only one problem.  Richard’s not in love with Kate.  Richard is in love with Kate’s sister, Olivia. He had been in love with her ever since he first saw her."
        ],
        [
         "6",
         "Z",
         "Horror, Thriller",
         "A family find themselves terrorized by their eight-year-old son's imaginary friend.",
         "Z [SEP] A family find themselves terrorized by their eight-year-old son's imaginary friend."
        ],
        [
         "7",
         "Blitz",
         "Crime, Action, Thriller",
         "A tough cop is dispatched to take down a serial killer who has been targeting police officers.",
         "Blitz [SEP] A tough cop is dispatched to take down a serial killer who has been targeting police officers."
        ],
        [
         "8",
         "Marriage Italian Style",
         "Drama, Romance, Comedy",
         "During the bombing of Naples in World War II, a cynical businessman helps a naive prostitute, who spends the next two decades desperate to have him reciprocate her feelings.",
         "Marriage Italian Style [SEP] During the bombing of Naples in World War II, a cynical businessman helps a naive prostitute, who spends the next two decades desperate to have him reciprocate her feelings."
        ],
        [
         "9",
         "Spoiled Brats",
         "Comedy",
         "The billionaire is tired of the whims of his own children and decides to teach them a lesson. He announces to them that he has become bankrupt. Now spoiled teenagers will have to do what they have never done: go to work, learn to love and value life.",
         "Spoiled Brats [SEP] The billionaire is tired of the whims of his own children and decides to teach them a lesson. He announces to them that he has become bankrupt. Now spoiled teenagers will have to do what they have never done: go to work, learn to love and value life."
        ],
        [
         "10",
         "W.",
         "Drama, History",
         "The story of the eventful life of George W. Bush—his struggles and triumphs, how he found both his wife and his faith—and the critical days leading up to his decision to invade Iraq.",
         "W. [SEP] The story of the eventful life of George W. Bush—his struggles and triumphs, how he found both his wife and his faith—and the critical days leading up to his decision to invade Iraq."
        ],
        [
         "11",
         "Edge of Darkness",
         "Crime, Drama, Mystery, Thriller",
         "As a seasoned homicide detective, Thomas Craven has seen the bleakest side of humanity. But nothing prepares him for the toughest investigation of his life: the search for his only daughter Emma's killer. Now, he is on a personal mission to uncover the disturbing secrets surrounding her murder, including corporate corruption, government collusion and Emma's own mysterious life.",
         "Edge of Darkness [SEP] As a seasoned homicide detective, Thomas Craven has seen the bleakest side of humanity. But nothing prepares him for the toughest investigation of his life: the search for his only daughter Emma's killer. Now, he is on a personal mission to uncover the disturbing secrets surrounding her murder, including corporate corruption, government collusion and Emma's own mysterious life."
        ],
        [
         "12",
         "Spy",
         "Action, Comedy, Crime",
         "A desk-bound CIA analyst volunteers to go undercover to infiltrate the world of a deadly arms dealer, and prevent diabolical global disaster.",
         "Spy [SEP] A desk-bound CIA analyst volunteers to go undercover to infiltrate the world of a deadly arms dealer, and prevent diabolical global disaster."
        ],
        [
         "13",
         "A Guide to Recognizing Your Saints",
         "Crime, Drama",
         "Dito Montiel, a successful author, receives a call from his long-suffering mother, asking him to return home and visit his ailing father. Dito recalls his childhood growing up in a violent neighborhood in Queens, N.Y., with friends Antonio, Giuseppe, Nerf and Mike.",
         "A Guide to Recognizing Your Saints [SEP] Dito Montiel, a successful author, receives a call from his long-suffering mother, asking him to return home and visit his ailing father. Dito recalls his childhood growing up in a violent neighborhood in Queens, N.Y., with friends Antonio, Giuseppe, Nerf and Mike."
        ],
        [
         "14",
         "Cyberbully",
         "Drama, TV Movie",
         "A woman tries to help her teenage daughter when she becomes the victim of online bullying.",
         "Cyberbully [SEP] A woman tries to help her teenage daughter when she becomes the victim of online bullying."
        ],
        [
         "15",
         "G20",
         "Action, Mystery, Drama",
         "After the G20 Summit is overtaken by terrorists, President Danielle Sutton must bring all her statecraft and military experience to defend her family and her fellow leaders.",
         "G20 [SEP] After the G20 Summit is overtaken by terrorists, President Danielle Sutton must bring all her statecraft and military experience to defend her family and her fellow leaders."
        ],
        [
         "16",
         "Ruthless People",
         "Comedy",
         "Sam Stone hates his wife Barbara so much that he wants her dead. He's ecstatic when she's taken by a duo of kidnappers who want $500,000 ransom in exchange for her life. Fully intending to ignore every one of the kidnappers' demands in the hopes that they do him a favor and murder her for him, the two confused kidnappers have to figure out how they're going get their money, and what they're going to do with the overbearing Barbara.",
         "Ruthless People [SEP] Sam Stone hates his wife Barbara so much that he wants her dead. He's ecstatic when she's taken by a duo of kidnappers who want $500,000 ransom in exchange for her life. Fully intending to ignore every one of the kidnappers' demands in the hopes that they do him a favor and murder her for him, the two confused kidnappers have to figure out how they're going get their money, and what they're going to do with the overbearing Barbara."
        ],
        [
         "17",
         "Charlotte's Web",
         "Family, Music, Animation",
         "Wilbur the pig is scared of the end of the season, because he knows that come that time, he will end up on the dinner table. He hatches a plan with Charlotte, a spider that lives in his pen, to ensure that this will never happen.",
         "Charlotte's Web [SEP] Wilbur the pig is scared of the end of the season, because he knows that come that time, he will end up on the dinner table. He hatches a plan with Charlotte, a spider that lives in his pen, to ensure that this will never happen."
        ],
        [
         "18",
         "Greenberg",
         "Comedy, Drama, Romance",
         "A New Yorker moves to Los Angeles in order to figure out his life while he housesits for his brother, and he soon sparks with his brother's assistant.",
         "Greenberg [SEP] A New Yorker moves to Los Angeles in order to figure out his life while he housesits for his brother, and he soon sparks with his brother's assistant."
        ],
        [
         "19",
         "Suffragette",
         "Drama, History",
         "Based on true events about the foot soldiers of the early feminist movement, women who were forced underground to pursue a dangerous game of cat and mouse with an increasingly brutal State.",
         "Suffragette [SEP] Based on true events about the foot soldiers of the early feminist movement, women who were forced underground to pursue a dangerous game of cat and mouse with an increasingly brutal State."
        ],
        [
         "20",
         "Bullets Over Broadway",
         "Comedy, Crime",
         "After young playwright, David Shayne obtains funding for his play from gangster Nick Valenti, Nick's girlfriend Olive miraculously lands the role of a psychiatrist—but not only is she a bimbo who could never pass for a psychiatrist—she's a dreadful actress. David puts up with the leading man who is a compulsive eater, the grand dame who wants her part jazzed up, and Olive's interfering hitman/bodyguard—but, eventually he must decide whether art or life is more important.",
         "Bullets Over Broadway [SEP] After young playwright, David Shayne obtains funding for his play from gangster Nick Valenti, Nick's girlfriend Olive miraculously lands the role of a psychiatrist—but not only is she a bimbo who could never pass for a psychiatrist—she's a dreadful actress. David puts up with the leading man who is a compulsive eater, the grand dame who wants her part jazzed up, and Olive's interfering hitman/bodyguard—but, eventually he must decide whether art or life is more important."
        ],
        [
         "21",
         "Batman v Superman: Dawn of Justice",
         "Action, Adventure, Fantasy",
         "Fearing the actions of a god-like Super Hero left unchecked, Gotham City’s own formidable, forceful vigilante takes on Metropolis’s most revered, modern-day savior, while the world wrestles with what sort of hero it really needs. And with Batman and Superman at war with one another, a new threat quickly arises, putting mankind in greater danger than it’s ever known before.",
         "Batman v Superman: Dawn of Justice [SEP] Fearing the actions of a god-like Super Hero left unchecked, Gotham City’s own formidable, forceful vigilante takes on Metropolis’s most revered, modern-day savior, while the world wrestles with what sort of hero it really needs. And with Batman and Superman at war with one another, a new threat quickly arises, putting mankind in greater danger than it’s ever known before."
        ],
        [
         "22",
         "Snow Dogs",
         "Comedy, Family, Adventure",
         "When a Miami dentist inherits a team of sled dogs, he's got to learn the trade or lose his pack to a crusty mountain man.",
         "Snow Dogs [SEP] When a Miami dentist inherits a team of sled dogs, he's got to learn the trade or lose his pack to a crusty mountain man."
        ],
        [
         "23",
         "The Time Machine",
         "Thriller, Adventure, Fantasy, Science Fiction, Romance",
         "A Victorian Englishman travels to the far future and finds that humanity has divided into two hostile species.",
         "The Time Machine [SEP] A Victorian Englishman travels to the far future and finds that humanity has divided into two hostile species."
        ],
        [
         "24",
         "WALL·E",
         "Animation, Family, Science Fiction",
         "What if mankind had to leave Earth and somebody forgot to turn the last robot off? After hundreds of years doing what he was built for, WALL•E discovers a new purpose in life when he meets a sleek search robot named EVE. EVE comes to realize that WALL•E has inadvertently stumbled upon the key to the planet's future, and races back to space to report to the humans. Meanwhile, WALL•E chases EVE across the galaxy and sets into motion one of the most imaginative adventures ever brought to the big screen.",
         "WALL·E [SEP] What if mankind had to leave Earth and somebody forgot to turn the last robot off? After hundreds of years doing what he was built for, WALL•E discovers a new purpose in life when he meets a sleek search robot named EVE. EVE comes to realize that WALL•E has inadvertently stumbled upon the key to the planet's future, and races back to space to report to the humans. Meanwhile, WALL•E chases EVE across the galaxy and sets into motion one of the most imaginative adventures ever brought to the big screen."
        ],
        [
         "25",
         "Changeling",
         "Crime, Drama, Mystery",
         "Los Angeles, 1928. When single mother Christine Collins leaves for work, her son vanishes without a trace. Five months later, the police reunite mother and son. But when Christine suspects that the boy returned to her isn't her child, her quest for truth exposes a world of corruption.",
         "Changeling [SEP] Los Angeles, 1928. When single mother Christine Collins leaves for work, her son vanishes without a trace. Five months later, the police reunite mother and son. But when Christine suspects that the boy returned to her isn't her child, her quest for truth exposes a world of corruption."
        ],
        [
         "26",
         "The Skin I Live In",
         "Drama, Horror, Mystery, Thriller",
         "A brilliant plastic surgeon creates a synthetic skin that withstands any kind of damage. His guinea pig: a mysterious and volatile woman who holds the key to his obsession.",
         "The Skin I Live In [SEP] A brilliant plastic surgeon creates a synthetic skin that withstands any kind of damage. His guinea pig: a mysterious and volatile woman who holds the key to his obsession."
        ],
        [
         "27",
         "She's Out of My League",
         "Romance, Comedy",
         "When he starts dating drop-dead gorgeous Molly, insecure airport security agent Kirk can't believe it. As his friends and family share their doubts about the relationship lasting, Kirk does everything he can to avoid losing Molly forever.",
         "She's Out of My League [SEP] When he starts dating drop-dead gorgeous Molly, insecure airport security agent Kirk can't believe it. As his friends and family share their doubts about the relationship lasting, Kirk does everything he can to avoid losing Molly forever."
        ],
        [
         "28",
         "Attack the Block",
         "Action, Comedy, Science Fiction",
         "A teen gang in a South London housing estate must team up with the other residents to protect their neighbourhood from a terrifying alien invasion.",
         "Attack the Block [SEP] A teen gang in a South London housing estate must team up with the other residents to protect their neighbourhood from a terrifying alien invasion."
        ],
        [
         "29",
         "The Takedown",
         "Comedy, Action",
         "Ousmane Diakité and François Monge are two cops with very different styles, backgrounds and careers. The unlikely pair are reunited once again for a new investigation that takes them across France. What seemed to be a simple drug deal turns out to be a much bigger criminal case wrapped in danger and unexpected comedy.",
         "The Takedown [SEP] Ousmane Diakité and François Monge are two cops with very different styles, backgrounds and careers. The unlikely pair are reunited once again for a new investigation that takes them across France. What seemed to be a simple drug deal turns out to be a much bigger criminal case wrapped in danger and unexpected comedy."
        ],
        [
         "30",
         "The Road",
         "Adventure, Drama",
         "A father and his son walk alone through burned America. Nothing moves in the ravaged landscape save the ash on the wind and water. It is cold enough to crack stones and, when the snow falls, it is gray. Their destination is the warmer south, although they don't know what, if anything, awaits them there.",
         "The Road [SEP] A father and his son walk alone through burned America. Nothing moves in the ravaged landscape save the ash on the wind and water. It is cold enough to crack stones and, when the snow falls, it is gray. Their destination is the warmer south, although they don't know what, if anything, awaits them there."
        ],
        [
         "31",
         "Race to Witch Mountain",
         "Adventure, Family, Fantasy, Science Fiction, Thriller, Action",
         "A taxi driver gets more than he bargained for when he picks up two teen runaways. Not only does the pair possess supernatural powers, but they're also trying desperately to escape people who have made them their targets.",
         "Race to Witch Mountain [SEP] A taxi driver gets more than he bargained for when he picks up two teen runaways. Not only does the pair possess supernatural powers, but they're also trying desperately to escape people who have made them their targets."
        ],
        [
         "32",
         "An American Tail",
         "Animation, Comedy, Adventure, Drama, Family",
         "A young mouse named Fievel and his family decide to migrate to America, a \"land without cats,\" at the turn of the 20th century. But somehow, Fievel ends up in the New World alone and must fend off not only the felines he never thought he'd have to deal with again but also the loneliness of being away from home.",
         "An American Tail [SEP] A young mouse named Fievel and his family decide to migrate to America, a \"land without cats,\" at the turn of the 20th century. But somehow, Fievel ends up in the New World alone and must fend off not only the felines he never thought he'd have to deal with again but also the loneliness of being away from home."
        ],
        [
         "33",
         "Flushed Away",
         "Adventure, Animation, Comedy, Family",
         "London high-society mouse, Roddy is flushed down the toilet by Sid, a common sewer rat. Hang on for a madcap adventure deep in the sewer bowels of Ratropolis, where Roddy meets the resourceful Rita, the rodent-hating Toad and his faithful thugs, Spike and Whitey.",
         "Flushed Away [SEP] London high-society mouse, Roddy is flushed down the toilet by Sid, a common sewer rat. Hang on for a madcap adventure deep in the sewer bowels of Ratropolis, where Roddy meets the resourceful Rita, the rodent-hating Toad and his faithful thugs, Spike and Whitey."
        ],
        [
         "34",
         "Puss in Boots: The Three Diablos",
         "Adventure, Animation, Comedy, Family",
         "Puss in Boots is on a mission to recover the Princess' stolen ruby from the notorious French thief, Whisperer. Reluctantly accompanied by three little kittens, Three Diablos, Puss must tame them before they endanger the mission.",
         "Puss in Boots: The Three Diablos [SEP] Puss in Boots is on a mission to recover the Princess' stolen ruby from the notorious French thief, Whisperer. Reluctantly accompanied by three little kittens, Three Diablos, Puss must tame them before they endanger the mission."
        ],
        [
         "35",
         "UglyDolls",
         "Animation, Music, Family, Comedy",
         "In the adorably different town of Uglyville, weirdness is celebrated, strangeness is special and beauty is embraced as more than meets the eye. After traveling to the other side of a mountain, Moxy and her UglyDoll friends discover Perfection -- a town where more conventional dolls receive training before entering the real world to find the love of a child.",
         "UglyDolls [SEP] In the adorably different town of Uglyville, weirdness is celebrated, strangeness is special and beauty is embraced as more than meets the eye. After traveling to the other side of a mountain, Moxy and her UglyDoll friends discover Perfection -- a town where more conventional dolls receive training before entering the real world to find the love of a child."
        ],
        [
         "36",
         "Come Play",
         "Horror, Mystery",
         "A lonely young boy feels different from everyone else. Desperate for a friend, he seeks solace and refuge in his ever-present cell phone and tablet. When a mysterious creature uses the boy’s devices against him to break into our world, his parents must fight to save their son from the monster beyond the screen.",
         "Come Play [SEP] A lonely young boy feels different from everyone else. Desperate for a friend, he seeks solace and refuge in his ever-present cell phone and tablet. When a mysterious creature uses the boy’s devices against him to break into our world, his parents must fight to save their son from the monster beyond the screen."
        ],
        [
         "37",
         "Grande, grosso e Verdone",
         "Comedy",
         "A comic movie divided in three episodes.",
         "Grande, grosso e Verdone [SEP] A comic movie divided in three episodes."
        ],
        [
         "38",
         "Jesus Christ Superstar",
         "Music, Drama",
         "As played out by a theatre troupe, the last days of Jesus Christ are depicted from the perspective of Judas Iscariot, his betrayer. As Jesus' following increases, Judas begins to worry that Jesus is falling for his own hype, forgetting the principles of his teachings and growing too close to the prostitute Mary Magdalene.",
         "Jesus Christ Superstar [SEP] As played out by a theatre troupe, the last days of Jesus Christ are depicted from the perspective of Judas Iscariot, his betrayer. As Jesus' following increases, Judas begins to worry that Jesus is falling for his own hype, forgetting the principles of his teachings and growing too close to the prostitute Mary Magdalene."
        ],
        [
         "39",
         "The Blind Side",
         "Drama",
         "The story of Michael Oher, a homeless and traumatized boy who became an All American football player and first round NFL draft pick with the help of a caring woman and her family.",
         "The Blind Side [SEP] The story of Michael Oher, a homeless and traumatized boy who became an All American football player and first round NFL draft pick with the help of a caring woman and her family."
        ],
        [
         "40",
         "Django Unchained",
         "Drama, Western",
         "With the help of a German bounty hunter, a freed slave sets out to rescue his wife from a brutal Mississippi plantation owner.",
         "Django Unchained [SEP] With the help of a German bounty hunter, a freed slave sets out to rescue his wife from a brutal Mississippi plantation owner."
        ],
        [
         "41",
         "Dark Phoenix",
         "Science Fiction, Action, Adventure",
         "The X-Men face their most formidable and powerful foe when one of their own, Jean Grey, starts to spiral out of control. During a rescue mission in outer space, Jean is nearly killed when she's hit by a mysterious cosmic force. Once she returns home, this force not only makes her infinitely more powerful, but far more unstable. The X-Men must now band together to save her soul and battle aliens that want to use Grey's new abilities to rule the galaxy.",
         "Dark Phoenix [SEP] The X-Men face their most formidable and powerful foe when one of their own, Jean Grey, starts to spiral out of control. During a rescue mission in outer space, Jean is nearly killed when she's hit by a mysterious cosmic force. Once she returns home, this force not only makes her infinitely more powerful, but far more unstable. The X-Men must now band together to save her soul and battle aliens that want to use Grey's new abilities to rule the galaxy."
        ],
        [
         "42",
         "Police Story 3: Super Cop",
         "Action, Crime, Thriller",
         "A Hong Kong detective teams up with his female Red Chinese counterpart to stop a Chinese drug czar.",
         "Police Story 3: Super Cop [SEP] A Hong Kong detective teams up with his female Red Chinese counterpart to stop a Chinese drug czar."
        ],
        [
         "43",
         "Hey Arnold! The Movie",
         "Animation, Comedy, Family, Adventure, Drama, Thriller",
         "Arnold and his friends must recover a stolen document in order to prevent the neighborhood from being bulldozed.",
         "Hey Arnold! The Movie [SEP] Arnold and his friends must recover a stolen document in order to prevent the neighborhood from being bulldozed."
        ],
        [
         "44",
         "Den of Thieves",
         "Action, Crime, Thriller",
         "A gritty crime saga which follows the lives of an elite unit of the LA County Sheriff's Dept. and the state's most successful bank robbery crew as the outlaws plan a seemingly impossible heist on the Federal Reserve Bank.",
         "Den of Thieves [SEP] A gritty crime saga which follows the lives of an elite unit of the LA County Sheriff's Dept. and the state's most successful bank robbery crew as the outlaws plan a seemingly impossible heist on the Federal Reserve Bank."
        ],
        [
         "45",
         "The Space Between Us",
         "Romance, Adventure, Science Fiction, Drama",
         "A young man raised by scientists on Mars returns to Earth to find his father.",
         "The Space Between Us [SEP] A young man raised by scientists on Mars returns to Earth to find his father."
        ],
        [
         "46",
         "Last Shift",
         "Horror, Mystery",
         "Rookie police officer Jessica Loren has been assigned the last shift at a closing police station and must wait for a hazmat crew to collect biomedical evidence. Ordered not to leave the station under any circumstances, Jessica comes to learn that it's more than just an outdated station, it's home to the ultimate embodiment of evil and his devoted bloodthirsty followers. Jessica is left to fend for herself in the Devil's playground.",
         "Last Shift [SEP] Rookie police officer Jessica Loren has been assigned the last shift at a closing police station and must wait for a hazmat crew to collect biomedical evidence. Ordered not to leave the station under any circumstances, Jessica comes to learn that it's more than just an outdated station, it's home to the ultimate embodiment of evil and his devoted bloodthirsty followers. Jessica is left to fend for herself in the Devil's playground."
        ],
        [
         "47",
         "Belle and Sebastian: The Adventure Continues",
         "Adventure, Family",
         "September, 1945. Sebastian impatiently waits for the return of his friend Angelina, whom he has not seen for two years. When the plane carrying the young woman to her small village in the Alps is reported to have crashed in the mountains, Sebastian is convinced that Angelina is still alive. Along with his faithful dog Belle, Sebastian embarks on the most dangerous adventure of his life.",
         "Belle and Sebastian: The Adventure Continues [SEP] September, 1945. Sebastian impatiently waits for the return of his friend Angelina, whom he has not seen for two years. When the plane carrying the young woman to her small village in the Alps is reported to have crashed in the mountains, Sebastian is convinced that Angelina is still alive. Along with his faithful dog Belle, Sebastian embarks on the most dangerous adventure of his life."
        ],
        [
         "48",
         "The Big Short",
         "Comedy, Drama",
         "The men who made millions from a global economic meltdown.",
         "The Big Short [SEP] The men who made millions from a global economic meltdown."
        ],
        [
         "49",
         "The Kite Runner",
         "Drama",
         "After spending years in California, Amir returns to his homeland in Afghanistan to help his old friend Hassan, whose son is in trouble.",
         "The Kite Runner [SEP] After spending years in California, Amir returns to his homeland in Afghanistan to help his old friend Hassan, whose son is in trouble."
        ]
       ],
       "shape": {
        "columns": 4,
        "rows": 8475
       }
      },
      "text/html": [
       "<div>\n",
       "<style scoped>\n",
       "    .dataframe tbody tr th:only-of-type {\n",
       "        vertical-align: middle;\n",
       "    }\n",
       "\n",
       "    .dataframe tbody tr th {\n",
       "        vertical-align: top;\n",
       "    }\n",
       "\n",
       "    .dataframe thead th {\n",
       "        text-align: right;\n",
       "    }\n",
       "</style>\n",
       "<table border=\"1\" class=\"dataframe\">\n",
       "  <thead>\n",
       "    <tr style=\"text-align: right;\">\n",
       "      <th></th>\n",
       "      <th>movie_name</th>\n",
       "      <th>genre</th>\n",
       "      <th>description</th>\n",
       "      <th>text</th>\n",
       "    </tr>\n",
       "  </thead>\n",
       "  <tbody>\n",
       "    <tr>\n",
       "      <th>0</th>\n",
       "      <td>Silent Hill</td>\n",
       "      <td>Horror, Mystery</td>\n",
       "      <td>Rose, a desperate mother takes her adopted dau...</td>\n",
       "      <td>Silent Hill [SEP] Rose, a desperate mother tak...</td>\n",
       "    </tr>\n",
       "    <tr>\n",
       "      <th>1</th>\n",
       "      <td>Breaking the Waves</td>\n",
       "      <td>Drama, Romance</td>\n",
       "      <td>In a small and conservative Scottish village, ...</td>\n",
       "      <td>Breaking the Waves [SEP] In a small and conser...</td>\n",
       "    </tr>\n",
       "    <tr>\n",
       "      <th>2</th>\n",
       "      <td>Wind Chill</td>\n",
       "      <td>Drama, Horror, Thriller</td>\n",
       "      <td>Two college students share a ride home for the...</td>\n",
       "      <td>Wind Chill [SEP] Two college students share a ...</td>\n",
       "    </tr>\n",
       "    <tr>\n",
       "      <th>3</th>\n",
       "      <td>Godmothered</td>\n",
       "      <td>Family, Fantasy, Comedy</td>\n",
       "      <td>A young and unskilled fairy godmother that ven...</td>\n",
       "      <td>Godmothered [SEP] A young and unskilled fairy ...</td>\n",
       "    </tr>\n",
       "    <tr>\n",
       "      <th>4</th>\n",
       "      <td>Donkey Skin</td>\n",
       "      <td>Fantasy, Comedy, Music, Romance</td>\n",
       "      <td>A fairy godmother helps a princess disguise he...</td>\n",
       "      <td>Donkey Skin [SEP] A fairy godmother helps a pr...</td>\n",
       "    </tr>\n",
       "    <tr>\n",
       "      <th>...</th>\n",
       "      <td>...</td>\n",
       "      <td>...</td>\n",
       "      <td>...</td>\n",
       "      <td>...</td>\n",
       "    </tr>\n",
       "    <tr>\n",
       "      <th>8470</th>\n",
       "      <td>Infested</td>\n",
       "      <td>Horror, Thriller</td>\n",
       "      <td>Residents of a rundown French apartment buildi...</td>\n",
       "      <td>Infested [SEP] Residents of a rundown French a...</td>\n",
       "    </tr>\n",
       "    <tr>\n",
       "      <th>8471</th>\n",
       "      <td>The Tailor of Panama</td>\n",
       "      <td>Drama, Thriller</td>\n",
       "      <td>A British spy is banished to Panama after havi...</td>\n",
       "      <td>The Tailor of Panama [SEP] A British spy is ba...</td>\n",
       "    </tr>\n",
       "    <tr>\n",
       "      <th>8472</th>\n",
       "      <td>Bad Education</td>\n",
       "      <td>Drama, Crime</td>\n",
       "      <td>An examination on the effect of Franco-era rel...</td>\n",
       "      <td>Bad Education [SEP] An examination on the effe...</td>\n",
       "    </tr>\n",
       "    <tr>\n",
       "      <th>8473</th>\n",
       "      <td>From Dusk Till Dawn</td>\n",
       "      <td>Horror, Action, Thriller, Crime</td>\n",
       "      <td>After kidnapping a father and his two kids, th...</td>\n",
       "      <td>From Dusk Till Dawn [SEP] After kidnapping a f...</td>\n",
       "    </tr>\n",
       "    <tr>\n",
       "      <th>8474</th>\n",
       "      <td>Road Trip</td>\n",
       "      <td>Comedy, Adventure</td>\n",
       "      <td>After an Ithaca College student films his one-...</td>\n",
       "      <td>Road Trip [SEP] After an Ithaca College studen...</td>\n",
       "    </tr>\n",
       "  </tbody>\n",
       "</table>\n",
       "<p>8475 rows × 4 columns</p>\n",
       "</div>"
      ],
      "text/plain": [
       "                movie_name                            genre  \\\n",
       "0              Silent Hill                  Horror, Mystery   \n",
       "1       Breaking the Waves                   Drama, Romance   \n",
       "2               Wind Chill          Drama, Horror, Thriller   \n",
       "3              Godmothered          Family, Fantasy, Comedy   \n",
       "4              Donkey Skin  Fantasy, Comedy, Music, Romance   \n",
       "...                    ...                              ...   \n",
       "8470              Infested                 Horror, Thriller   \n",
       "8471  The Tailor of Panama                  Drama, Thriller   \n",
       "8472         Bad Education                     Drama, Crime   \n",
       "8473   From Dusk Till Dawn  Horror, Action, Thriller, Crime   \n",
       "8474             Road Trip                Comedy, Adventure   \n",
       "\n",
       "                                            description  \\\n",
       "0     Rose, a desperate mother takes her adopted dau...   \n",
       "1     In a small and conservative Scottish village, ...   \n",
       "2     Two college students share a ride home for the...   \n",
       "3     A young and unskilled fairy godmother that ven...   \n",
       "4     A fairy godmother helps a princess disguise he...   \n",
       "...                                                 ...   \n",
       "8470  Residents of a rundown French apartment buildi...   \n",
       "8471  A British spy is banished to Panama after havi...   \n",
       "8472  An examination on the effect of Franco-era rel...   \n",
       "8473  After kidnapping a father and his two kids, th...   \n",
       "8474  After an Ithaca College student films his one-...   \n",
       "\n",
       "                                                   text  \n",
       "0     Silent Hill [SEP] Rose, a desperate mother tak...  \n",
       "1     Breaking the Waves [SEP] In a small and conser...  \n",
       "2     Wind Chill [SEP] Two college students share a ...  \n",
       "3     Godmothered [SEP] A young and unskilled fairy ...  \n",
       "4     Donkey Skin [SEP] A fairy godmother helps a pr...  \n",
       "...                                                 ...  \n",
       "8470  Infested [SEP] Residents of a rundown French a...  \n",
       "8471  The Tailor of Panama [SEP] A British spy is ba...  \n",
       "8472  Bad Education [SEP] An examination on the effe...  \n",
       "8473  From Dusk Till Dawn [SEP] After kidnapping a f...  \n",
       "8474  Road Trip [SEP] After an Ithaca College studen...  \n",
       "\n",
       "[8475 rows x 4 columns]"
      ]
     },
     "execution_count": 184,
     "metadata": {},
     "output_type": "execute_result"
    }
   ],
   "source": [
    "df"
   ]
  },
  {
   "cell_type": "code",
   "execution_count": 185,
   "id": "1c905898",
   "metadata": {},
   "outputs": [
    {
     "data": {
      "text/plain": [
       "['Horror', 'Mystery']"
      ]
     },
     "execution_count": 185,
     "metadata": {},
     "output_type": "execute_result"
    }
   ],
   "source": [
    "y_list[0]"
   ]
  },
  {
   "cell_type": "code",
   "execution_count": 186,
   "id": "239bcf49",
   "metadata": {},
   "outputs": [],
   "source": [
    "mlb = MultiLabelBinarizer() # returns a list per sample with 0/1 for each label\n",
    "Y = mlb.fit_transform(y_list)\n",
    "\n",
    "X_tr, X_va, y_tr, y_va = train_test_split(\n",
    "    df[\"text\"], Y, test_size=0.1, random_state=42\n",
    ")"
   ]
  },
  {
   "cell_type": "code",
   "execution_count": 187,
   "id": "f88906a5",
   "metadata": {},
   "outputs": [
    {
     "name": "stdout",
     "output_type": "stream",
     "text": [
      "Scooby-Doo! Camp Scare [SEP] Scooby and the gang experience outdoor fun as they go back to Fred's old summer camp. As summer goes on, it becomes increasingly clear that the spooky camp stories told by the fireplace, are more real than they've though and soon, it's up to the gang to try and solve the mystery of camp scare.\n",
      "[0 0 1 1 0 0 1 0 0 0 0 1 0 0 0 0 0 0]\n"
     ]
    }
   ],
   "source": [
    "print(X_tr.iloc[0])\n",
    "print(y_tr[0])"
   ]
  },
  {
   "cell_type": "code",
   "execution_count": 188,
   "id": "836edee1",
   "metadata": {},
   "outputs": [],
   "source": [
    "# --- TF-IDF word + char ---\n",
    "tfidf_word = TfidfVectorizer(\n",
    "    ngram_range=(1,2), min_df=3, max_features=300_000, sublinear_tf=True\n",
    ")\n",
    "tfidf_char = TfidfVectorizer(\n",
    "    analyzer=\"char_wb\", ngram_range=(3,5), min_df=3, max_features=300_000, sublinear_tf=True\n",
    ")\n",
    "\n",
    "Xw_tr = tfidf_word.fit_transform(X_tr);  Xw_va = tfidf_word.transform(X_va)\n",
    "Xc_tr = tfidf_char.fit_transform(X_tr);  Xc_va = tfidf_char.transform(X_va)"
   ]
  },
  {
   "cell_type": "code",
   "execution_count": 189,
   "id": "0ee5b114",
   "metadata": {},
   "outputs": [
    {
     "name": "stdout",
     "output_type": "stream",
     "text": [
      "['11' '11 year' '117' '117 is' '11th' '12' '12 angry' '12 year' '12 years'\n",
      " '12th']\n",
      "[' \"br' ' \"bu' ' \"c' ' \"ca' ' \"co' ' \"cr' ' \"cu' ' \"d' ' \"da' ' \"de']\n",
      "(7627, 28369) (7627, 62853)\n"
     ]
    }
   ],
   "source": [
    "print(tfidf_word.get_feature_names_out()[10:20])\n",
    "print(tfidf_char.get_feature_names_out()[10:20])\n",
    "\n",
    "print(Xw_tr.shape, Xc_tr.shape)"
   ]
  },
  {
   "cell_type": "code",
   "execution_count": 190,
   "id": "948a5e44",
   "metadata": {},
   "outputs": [
    {
     "name": "stdout",
     "output_type": "stream",
     "text": [
      "micro-F1: 0.5952936949883241\n",
      "macro-F1: 0.5550593125663562\n"
     ]
    }
   ],
   "source": [
    "XTR = sp_hstack([Xw_tr, Xc_tr], format=\"csr\")\n",
    "XVA = sp_hstack([Xw_va, Xc_va], format=\"csr\")\n",
    "\n",
    "# --- Clasificador ---\n",
    "clf = OneVsRestClassifier(\n",
    "    LogisticRegression(C=4.0, solver=\"saga\", max_iter=2000, n_jobs=-1),\n",
    "    n_jobs=-1\n",
    ")\n",
    "clf.fit(XTR, y_tr)\n",
    "\n",
    "# --- Calibración de umbrales por clase ---\n",
    "logits = clf.decision_function(XVA)  # [n_samples, n_classes]\n",
    "ths = np.zeros(logits.shape[1])\n",
    "for k in range(logits.shape[1]):\n",
    "    s = logits[:, k]\n",
    "    best_f1, best_t = 0.0, 0.0\n",
    "    for t in np.quantile(s, np.linspace(0.05, 0.95, 19)):\n",
    "        f1 = f1_score(y_va[:, k], (s >= t).astype(int), zero_division=0)\n",
    "        if f1 > best_f1:\n",
    "            best_f1, best_t = f1, t\n",
    "    ths[k] = best_t\n",
    "\n",
    "pred = (logits >= ths).astype(int)\n",
    "print(\"micro-F1:\", f1_score(y_va, pred, average=\"micro\"))\n",
    "print(\"macro-F1:\", f1_score(y_va, pred, average=\"macro\"))\n",
    "\n",
    "# --- Guardar artefactos para inferencia ---\n",
    "import joblib, json\n",
    "joblib.dump(tfidf_word, \"tfidf_word.joblib\")\n",
    "joblib.dump(tfidf_char, \"tfidf_char.joblib\")\n",
    "joblib.dump(clf, \"ovr_logreg.joblib\")\n",
    "with open(\"labels.json\",\"w\") as f: json.dump(mlb.classes_.tolist(), f)\n",
    "np.save(\"thresholds.npy\", ths)"
   ]
  },
  {
   "cell_type": "code",
   "execution_count": 191,
   "id": "304c67e6",
   "metadata": {},
   "outputs": [],
   "source": [
    "# predict_classic.py\n",
    "import pandas as pd, numpy as np, json, joblib\n",
    "from scipy.sparse import hstack\n",
    "\n",
    "tfidf_word = joblib.load(\"tfidf_word.joblib\")\n",
    "tfidf_char = joblib.load(\"tfidf_char.joblib\")\n",
    "clf = joblib.load(\"ovr_logreg.joblib\")\n",
    "labels = json.load(open(\"labels.json\"))\n",
    "ths = np.load(\"thresholds.npy\")\n",
    "\n",
    "def predict(input_csv, output_csv):\n",
    "    df = pd.read_csv(input_csv)\n",
    "    text = df[\"movie_name\"].fillna(\"\") + \" [SEP] \" + df[\"description\"].fillna(\"\")\n",
    "    X = hstack([tfidf_word.transform(text), tfidf_char.transform(text)])\n",
    "    logits = clf.decision_function(X)\n",
    "    pred = (logits >= ths).astype(int)\n",
    "    # Formato: lista de géneros separados por coma\n",
    "    pred_labels = [\",\".join([labels[j] for j,v in enumerate(row) if v==1]) for row in pred]\n",
    "    pd.DataFrame({\"id\": df.index, \"genre\": pred_labels}).to_csv(output_csv, index=False)\n",
    "\n",
    "predict(\"dataset_test.csv\", \"predictions.csv\")\n"
   ]
  },
  {
   "cell_type": "code",
   "execution_count": 192,
   "id": "083eebf7",
   "metadata": {},
   "outputs": [
    {
     "name": "stdout",
     "output_type": "stream",
     "text": [
      "{'accuracy': 0.05070754716981132, 'f1': 0.5550593125663562, 'precision': 0.5076310749633357, 'recall': 0.6910690970951362, 'hamming_loss': 0.14760220125786164}\n"
     ]
    }
   ],
   "source": [
    "from validator import compute_metrics\n",
    "\n",
    "print(compute_metrics(y_va, pred))"
   ]
  }
 ],
 "metadata": {
  "kernelspec": {
   "display_name": "base",
   "language": "python",
   "name": "python3"
  },
  "language_info": {
   "codemirror_mode": {
    "name": "ipython",
    "version": 3
   },
   "file_extension": ".py",
   "mimetype": "text/x-python",
   "name": "python",
   "nbconvert_exporter": "python",
   "pygments_lexer": "ipython3",
   "version": "3.13.5"
  }
 },
 "nbformat": 4,
 "nbformat_minor": 5
}
